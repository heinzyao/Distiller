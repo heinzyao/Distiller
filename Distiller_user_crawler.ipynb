{
 "cells": [
  {
   "cell_type": "code",
   "execution_count": 82,
   "metadata": {},
   "outputs": [],
   "source": [
    "import requests\n",
    "import re\n",
    "import time\n",
    "import math\n",
    "import threading\n",
    "import logging\n",
    "import pandas as pd\n",
    "\n",
    "from bs4 import BeautifulSoup\n",
    "#from IPython.display import clear_output\n",
    "from tqdm.notebook import trange, tqdm\n",
    "\n",
    "import csv\n",
    "import json\n",
    "#import pprint"
   ]
  },
  {
   "cell_type": "code",
   "execution_count": 83,
   "metadata": {},
   "outputs": [
    {
     "name": "stdout",
     "output_type": "stream",
     "text": [
      "8297\n",
      "https://distiller.com/spirits/wheatley-vodka\n"
     ]
    }
   ],
   "source": [
    "url_list = []\n",
    "\n",
    "with open('links.csv', 'r', newline='') as file:\n",
    "    rows = csv.reader(file)\n",
    "    \n",
    "    for row in rows:\n",
    "        url_list.append(row[0])\n",
    "\n",
    "url_list.pop(0)\n",
    "        \n",
    "print(len(url_list))\n",
    "print(url_list[0])"
   ]
  },
  {
   "cell_type": "markdown",
   "metadata": {},
   "source": [
    "### User Reviews Crawler"
   ]
  },
  {
   "cell_type": "code",
   "execution_count": 95,
   "metadata": {},
   "outputs": [],
   "source": [
    "all_reviews = []"
   ]
  },
  {
   "cell_type": "code",
   "execution_count": 103,
   "metadata": {},
   "outputs": [],
   "source": [
    "#User Reviews\n",
    "\n",
    "def getUserReviews(url_list=url_list, start=0, end=len(url_list)):   \n",
    "    \n",
    "    global all_reviews\n",
    "    \n",
    "    user_reviews = []\n",
    "    \n",
    "    global exec_count \n",
    "    \n",
    "    for url in tqdm(url_list[start:end]):   \n",
    "        \n",
    "        html = requests.get(f'{url}/tastes/?page=1')\n",
    "        bsObj = BeautifulSoup(html.text)\n",
    "        \n",
    "        try:\n",
    "            page_count = math.ceil(int(bsObj.find('span', \n",
    "            {'class':'pagination-control__description'}).string.strip().split(' ')[3]) / 10)\n",
    "            \n",
    "        except: page_count = 1\n",
    "    \n",
    "        for page in range(1, page_count+1):\n",
    "            \n",
    "            html = requests.get(f'{url}/tastes/?page={page}')\n",
    "            bsObj = BeautifulSoup(html.text)       \n",
    "                         \n",
    "            try:          \n",
    "                                \n",
    "                #product\n",
    "                product = bsObj.find('h1', {'itemprop':'name'})    \n",
    "                \n",
    "                #user\n",
    "                try:\n",
    "                    users = bsObj.find_all('h3', \n",
    "                                                {'class':'mini-headline name username truncate-line'})\n",
    "                except:    \n",
    "                    pass\n",
    "\n",
    "                #user rating\n",
    "                try:\n",
    "                    user_ratings = bsObj.find_all('div', \n",
    "                                                {'class':'rating-display__value'})\n",
    "                except: \n",
    "                    pass\n",
    "                    \n",
    "                #user comment\n",
    "                try:\n",
    "                    user_comments = bsObj.find_all('div',\n",
    "                                                    {'class':'body'})\n",
    "                except:\n",
    "                    pass\n",
    "                \n",
    "                for index, user in enumerate(users):\n",
    "                    \n",
    "                    user_review = {\n",
    "                        'product' : None,\n",
    "                        'user' : None,\n",
    "                        'user_rating' : None,\n",
    "                        'user_comment': None\n",
    "                        }     \n",
    "                    \n",
    "                    try: user_review['product'] = product.string.strip()\n",
    "                    except: pass\n",
    "                    try: user_review['user'] = user.string.strip()\n",
    "                    except: pass\n",
    "                    try: user_review['user_rating'] = float(user_ratings[index].string)\n",
    "                    except: pass    \n",
    "                    try: user_review['user_comment'] = re.sub('[\\r\\n]', '', user_comments[index].string.strip())\n",
    "                    except: pass\n",
    "                    \n",
    "                    #Add to a list   \n",
    "                    user_reviews.append(user_review)\n",
    "\n",
    "            except Exception as e:\n",
    "                \n",
    "                logging.exception(e)\n",
    "                print(e)\n",
    "                time.sleep(5)\n",
    "                \n",
    "                continue\n",
    "        \n",
    "        time.sleep(1)\n",
    "\n",
    "    return all_reviews.extend(user_reviews)"
   ]
  },
  {
   "cell_type": "code",
   "execution_count": 104,
   "metadata": {},
   "outputs": [
    {
     "data": {
      "application/vnd.jupyter.widget-view+json": {
       "model_id": "39118f85a4ff444dae1154c76cbe018a",
       "version_major": 2,
       "version_minor": 0
      },
      "text/plain": [
       "HBox(children=(FloatProgress(value=0.0, max=1.0), HTML(value='')))"
      ]
     },
     "metadata": {},
     "output_type": "display_data"
    },
    {
     "name": "stdout",
     "output_type": "stream",
     "text": [
      "\n"
     ]
    }
   ],
   "source": [
    "getUserReviews(url_list, 0, 1)"
   ]
  },
  {
   "cell_type": "code",
   "execution_count": 105,
   "metadata": {},
   "outputs": [
    {
     "name": "stdout",
     "output_type": "stream",
     "text": [
      "70\n",
      "{'product': 'Wheatley Vodka', 'user': 'MajorHop', 'user_rating': 3.75, 'user_comment': 'Pass. No flavor at all. Rubbing alcohol. I guess it would be work for mixing.'}\n",
      "{'product': 'Wheatley Vodka', 'user': 'Greonidas', 'user_rating': 4.5, 'user_comment': 'I liked this vodka from the first sip. I like it neat, on the rocks with a few olives.Wheat vodkas are my preference and this one delivers a smooth mellow taste thatI enjoy immensely. This is definitely  a vodka I will purchase again.'}\n",
      "{'product': 'Wheatley Vodka', 'user': 'jtanderon6', 'user_rating': 4.0, 'user_comment': 'Smooth'}\n",
      "{'product': 'Wheatley Vodka', 'user': 'Russell-WJ', 'user_rating': 4.0, 'user_comment': None}\n",
      "{'product': 'Wheatley Vodka', 'user': 'givemesomemore', 'user_rating': 2.0, 'user_comment': None}\n",
      "{'product': 'Wheatley Vodka', 'user': 'aphelps11', 'user_rating': 4.5, 'user_comment': None}\n",
      "{'product': 'Wheatley Vodka', 'user': 'Allan-Swartz', 'user_rating': 5.0, 'user_comment': None}\n",
      "{'product': 'Wheatley Vodka', 'user': 'ryanfessenden01', 'user_rating': 4.25, 'user_comment': None}\n",
      "{'product': 'Wheatley Vodka', 'user': 'korbec', 'user_rating': 5.0, 'user_comment': None}\n",
      "{'product': 'Wheatley Vodka', 'user': 'rvarnau', 'user_rating': None, 'user_comment': None}\n",
      "{'product': 'Wheatley Vodka', 'user': 'Cr-Lab', 'user_rating': 4.25, 'user_comment': 'I really expected more from the BT folks. This vodka is bland, heavy rubbing alcohol and leaves you with a surprisingly bad hangover.'}\n",
      "{'product': 'Wheatley Vodka', 'user': 'mattianluke', 'user_rating': 5.0, 'user_comment': 'Crisp and clean. Good body without oily finish.'}\n",
      "{'product': 'Wheatley Vodka', 'user': 'seger', 'user_rating': 5.0, 'user_comment': None}\n",
      "{'product': 'Wheatley Vodka', 'user': 'mitch567', 'user_rating': 1.5, 'user_comment': None}\n",
      "{'product': 'Wheatley Vodka', 'user': 'rallen34', 'user_rating': 4.5, 'user_comment': None}\n",
      "{'product': 'Wheatley Vodka', 'user': 'ASalminen', 'user_rating': 2.0, 'user_comment': None}\n",
      "{'product': 'Wheatley Vodka', 'user': 'Uakpan24', 'user_rating': 4.0, 'user_comment': None}\n",
      "{'product': 'Wheatley Vodka', 'user': 'nate6061', 'user_rating': 3.25, 'user_comment': None}\n",
      "{'product': 'Wheatley Vodka', 'user': 'Rbparrisiv', 'user_rating': 3.5, 'user_comment': None}\n",
      "{'product': 'Wheatley Vodka', 'user': 'cathcath091619', 'user_rating': 3.0, 'user_comment': None}\n",
      "{'product': 'Wheatley Vodka', 'user': 'Deutschman', 'user_rating': 3.25, 'user_comment': 'Clean and warm, no bitterness or burn, a hint of toast.  I love that it is not from corn.  This is likely the best value in a neutral vodka you will find.  I like Reyka a touch more but it is a bit more money.  I also like Blue Ice potato vodka a bit more for the richer feel in the mouth.Bottom line is if you buy this you will not be disappointed at all and likely will always keep a bottle in your cabinet.'}\n",
      "{'product': 'Wheatley Vodka', 'user': 'coltonmiller7', 'user_rating': 4.0, 'user_comment': None}\n",
      "{'product': 'Wheatley Vodka', 'user': 'Brad-Blaich', 'user_rating': 4.0, 'user_comment': None}\n",
      "{'product': 'Wheatley Vodka', 'user': 'GundeeATL', 'user_rating': 4.0, 'user_comment': None}\n",
      "{'product': 'Wheatley Vodka', 'user': 'joeoc35', 'user_rating': 3.75, 'user_comment': None}\n",
      "{'product': 'Wheatley Vodka', 'user': 'mikegoodner', 'user_rating': 3.75, 'user_comment': None}\n",
      "{'product': 'Wheatley Vodka', 'user': 'bhutsler18', 'user_rating': 3.25, 'user_comment': None}\n",
      "{'product': 'Wheatley Vodka', 'user': 'davidprager', 'user_rating': 4.0, 'user_comment': None}\n",
      "{'product': 'Wheatley Vodka', 'user': 'NickZ3535', 'user_rating': 3.5, 'user_comment': None}\n",
      "{'product': 'Wheatley Vodka', 'user': 'Lexi-Reid', 'user_rating': 4.0, 'user_comment': None}\n",
      "{'product': 'Wheatley Vodka', 'user': 'thehcaz', 'user_rating': 4.5, 'user_comment': 'I am not a Vodka drinker, But if you like Whiskey and Bourbon  this is the vodka for you! it gives you that bourbon warmth aftertaste and feeling as it goes down!'}\n",
      "{'product': 'Wheatley Vodka', 'user': 'eshinabarger', 'user_rating': 4.0, 'user_comment': 'Good - fairly neutral and dusty'}\n",
      "{'product': 'Wheatley Vodka', 'user': 'Rebellion1794', 'user_rating': 4.0, 'user_comment': \"Not as hard to find as Blanton's\"}\n",
      "{'product': 'Wheatley Vodka', 'user': 'BuchananMan', 'user_rating': 4.0, 'user_comment': 'Good clean vodka. Doesn’t finish oily like a certain famous Texas vodka...'}\n",
      "{'product': 'Wheatley Vodka', 'user': 'will4', 'user_rating': 3.0, 'user_comment': None}\n",
      "{'product': 'Wheatley Vodka', 'user': 'macattack4au', 'user_rating': 2.0, 'user_comment': None}\n",
      "{'product': 'Wheatley Vodka', 'user': 'knwheeler', 'user_rating': 4.25, 'user_comment': None}\n",
      "{'product': 'Wheatley Vodka', 'user': 'knwheeler', 'user_rating': 4.25, 'user_comment': None}\n",
      "{'product': 'Wheatley Vodka', 'user': 'G123456789', 'user_rating': 4.5, 'user_comment': None}\n",
      "{'product': 'Wheatley Vodka', 'user': 'rallen34', 'user_rating': None, 'user_comment': None}\n",
      "{'product': 'Wheatley Vodka', 'user': 'MMHAU30', 'user_rating': 2.75, 'user_comment': 'From the venerable master distiller himself, Harlen Wheatley, comes a namesake vodka in Wheatley from the Buffalo Trace distillery.  Made primarily from wheat and with other grain, this vodka is distilled no less than 10 times on what they call a “micro still” and then triple filtered, leaving a very pure neutral spirit.  Sampled neat from a Glencairn, nothing added.  Color is completely clear.  On the nose the vodka is perfectly neutral and soft, with only a faint ethanol scent and burn to let you know that the clear liquid isn’t just water sitting in the glass.  Very clean scent.Like a wheated spirit should be, the taste is primarily sweet, but not overly so by any means, and again a very neutral light ethanol in flavor at first.  Then a wonderfully soft sweet vanilla and light warming spice come forward.  This vodka goes down so easy it’s almost dangerous!  Very clean and crisp profile, as I suppose it should be after distilling the heck out of it!Overall, fantastic vodka from the masters at BT distillery.  A great clean neutral base to mix with anything you choose.  Cheers!'}\n",
      "{'product': 'Wheatley Vodka', 'user': 'WhiskeyMike901', 'user_rating': 4.25, 'user_comment': 'I’m by no means a vodka expert. My ratings are purely based on personal enjoyment. That being said, this is a perfect example of the “absence” of flavor...which makes this particular vodka extremely dangerous. It drinks like water with the faintest waft of vanilla appearing on the nose only. It’s 41% alcohol and I get almost zero heat from it. Crazy! Anyway, I’m sure it’s great in the vodka world...but probably only good for getting REALLY inebriated, REALLY fast in my world.'}\n",
      "{'product': 'Wheatley Vodka', 'user': 'knwheeler', 'user_rating': 4.25, 'user_comment': 'very smooth.  great martini'}\n",
      "{'product': 'Wheatley Vodka', 'user': 'lawhawk', 'user_rating': 4.5, 'user_comment': 'Exceptionally smooth, slight burn toward the throat, no one forward taste. Good, not great.'}\n",
      "{'product': 'Wheatley Vodka', 'user': 'brockrexius', 'user_rating': 3.5, 'user_comment': None}\n",
      "{'product': 'Wheatley Vodka', 'user': 'Mhill', 'user_rating': 5.0, 'user_comment': None}\n",
      "{'product': 'Wheatley Vodka', 'user': 'JV1878', 'user_rating': 5.0, 'user_comment': None}\n",
      "{'product': 'Wheatley Vodka', 'user': 'knwheeler', 'user_rating': 5.0, 'user_comment': None}\n",
      "{'product': 'Wheatley Vodka', 'user': 'bpapasquat', 'user_rating': 5.0, 'user_comment': None}\n",
      "{'product': 'Wheatley Vodka', 'user': 'Jhank56', 'user_rating': 4.0, 'user_comment': None}\n",
      "{'product': 'Wheatley Vodka', 'user': 'mhmitchell', 'user_rating': 5.0, 'user_comment': 'Smooth is the best word I can find to describe this delight. Buffalo Trace has proven their ability to excel in the art of distilling. This vodka is very flexible in that it can be enjoyed on the rocks or with a light mixer. It is a true delight to be enjoyed on these hot Mississippi days!'}\n",
      "{'product': 'Wheatley Vodka', 'user': 'coltonmiller7', 'user_rating': 3.0, 'user_comment': \"Smooth tasting and easy drinking.  Got this as a mixer on vacation to kick up the bite on some hard sodas my wife bought and didn't like.  Gets syrupy when frozen which was interesting. Usually a whiskey guy so I chose this because of it's origin.   Vodka is as vodka does I guess...\"}\n",
      "{'product': 'Wheatley Vodka', 'user': 'koeppel18', 'user_rating': 4.0, 'user_comment': 'very smooth, slight alcohol flavor, no burn, really good'}\n",
      "{'product': 'Wheatley Vodka', 'user': 'Bossman', 'user_rating': 4.0, 'user_comment': None}\n",
      "{'product': 'Wheatley Vodka', 'user': 'coltonmiller7', 'user_rating': 3.0, 'user_comment': None}\n",
      "{'product': 'Wheatley Vodka', 'user': 'luckymcnasty', 'user_rating': 5.0, 'user_comment': None}\n",
      "{'product': 'Wheatley Vodka', 'user': 'papaamerine', 'user_rating': 5.0, 'user_comment': None}\n",
      "{'product': 'Wheatley Vodka', 'user': 'Boomer-Boomershine', 'user_rating': 5.0, 'user_comment': None}\n",
      "{'product': 'Wheatley Vodka', 'user': 'Matt-Griffiths', 'user_rating': 5.0, 'user_comment': None}\n",
      "{'product': 'Wheatley Vodka', 'user': 'ShaunMcG', 'user_rating': None, 'user_comment': None}\n",
      "{'product': 'Wheatley Vodka', 'user': 'bocumberland', 'user_rating': 5.0, 'user_comment': 'Clean taste with little harshness or burn.'}\n",
      "{'product': 'Wheatley Vodka', 'user': 'Jeff-Evers', 'user_rating': 5.0, 'user_comment': ''}\n",
      "{'product': 'Wheatley Vodka', 'user': 'khr', 'user_rating': 4.0, 'user_comment': None}\n",
      "{'product': 'Wheatley Vodka', 'user': 'keith38506', 'user_rating': 4.0, 'user_comment': None}\n",
      "{'product': 'Wheatley Vodka', 'user': 'userblah', 'user_rating': 5.0, 'user_comment': None}\n",
      "{'product': 'Wheatley Vodka', 'user': 'Preacherboy', 'user_rating': 5.0, 'user_comment': None}\n",
      "{'product': 'Wheatley Vodka', 'user': 'efjones82', 'user_rating': 5.0, 'user_comment': None}\n",
      "{'product': 'Wheatley Vodka', 'user': 'Sean-Hilliard', 'user_rating': 4.0, 'user_comment': None}\n",
      "{'product': 'Wheatley Vodka', 'user': 'psychbeer', 'user_rating': 5.0, 'user_comment': None}\n",
      "{'product': 'Wheatley Vodka', 'user': 'Amy-Anderson-Miller', 'user_rating': None, 'user_comment': None}\n"
     ]
    }
   ],
   "source": [
    "print(len(all_reviews))\n",
    "\n",
    "for i in all_reviews:\n",
    "    print(i)"
   ]
  },
  {
   "cell_type": "code",
   "execution_count": 107,
   "metadata": {},
   "outputs": [
    {
     "name": "stdout",
     "output_type": "stream",
     "text": [
      "[0, 829, 1659, 2489, 3318, 4148, 4978, 5807, 6637, 7467, 8297]\n",
      "11\n"
     ]
    }
   ],
   "source": [
    "#Dividing the urls into segments\n",
    "\n",
    "seg = 10\n",
    "seg_list=[]\n",
    "\n",
    "for i in range(seg):\n",
    "    seg_list.append(int(len(url_list)/seg*i))\n",
    "\n",
    "seg_list.append(len(url_list))\n",
    "\n",
    "print(seg_list)\n",
    "print(len(seg_list))"
   ]
  },
  {
   "cell_type": "code",
   "execution_count": 110,
   "metadata": {},
   "outputs": [
    {
     "data": {
      "application/vnd.jupyter.widget-view+json": {
       "model_id": "a6188231ede54d0c8d297de1b1e7b84e",
       "version_major": 2,
       "version_minor": 0
      },
      "text/plain": [
       "HBox(children=(FloatProgress(value=0.0, max=830.0), HTML(value='')))"
      ]
     },
     "metadata": {},
     "output_type": "display_data"
    },
    {
     "data": {
      "application/vnd.jupyter.widget-view+json": {
       "model_id": "65e2d51cc50a4ad4b19d8fcc85b3b062",
       "version_major": 2,
       "version_minor": 0
      },
      "text/plain": [
       "HBox(children=(FloatProgress(value=0.0, max=830.0), HTML(value='')))"
      ]
     },
     "metadata": {},
     "output_type": "display_data"
    },
    {
     "data": {
      "application/vnd.jupyter.widget-view+json": {
       "model_id": "c7405a1b1b00452bb7515a9f4982d14d",
       "version_major": 2,
       "version_minor": 0
      },
      "text/plain": [
       "HBox(children=(FloatProgress(value=0.0, max=830.0), HTML(value='')))"
      ]
     },
     "metadata": {},
     "output_type": "display_data"
    },
    {
     "data": {
      "application/vnd.jupyter.widget-view+json": {
       "model_id": "1c3294b9cd834c9bab50edb19bc895ec",
       "version_major": 2,
       "version_minor": 0
      },
      "text/plain": [
       "HBox(children=(FloatProgress(value=0.0, max=830.0), HTML(value='')))"
      ]
     },
     "metadata": {},
     "output_type": "display_data"
    },
    {
     "data": {
      "application/vnd.jupyter.widget-view+json": {
       "model_id": "2b123164961042f1be0459d850b34488",
       "version_major": 2,
       "version_minor": 0
      },
      "text/plain": [
       "HBox(children=(FloatProgress(value=0.0, max=829.0), HTML(value='')))"
      ]
     },
     "metadata": {},
     "output_type": "display_data"
    },
    {
     "data": {
      "application/vnd.jupyter.widget-view+json": {
       "model_id": "8a4ad068d2d44657bdbcd3083222c9f2",
       "version_major": 2,
       "version_minor": 0
      },
      "text/plain": [
       "HBox(children=(FloatProgress(value=0.0, max=829.0), HTML(value='')))"
      ]
     },
     "metadata": {},
     "output_type": "display_data"
    },
    {
     "data": {
      "application/vnd.jupyter.widget-view+json": {
       "model_id": "fe41f1d91440439295e401c1c297d1ec",
       "version_major": 2,
       "version_minor": 0
      },
      "text/plain": [
       "HBox(children=(FloatProgress(value=0.0, max=830.0), HTML(value='')))"
      ]
     },
     "metadata": {},
     "output_type": "display_data"
    },
    {
     "data": {
      "application/vnd.jupyter.widget-view+json": {
       "model_id": "2b8ac926caea4b9c8d462501640173db",
       "version_major": 2,
       "version_minor": 0
      },
      "text/plain": [
       "HBox(children=(FloatProgress(value=0.0, max=829.0), HTML(value='')))"
      ]
     },
     "metadata": {},
     "output_type": "display_data"
    },
    {
     "data": {
      "application/vnd.jupyter.widget-view+json": {
       "model_id": "c6eff5243d024b64ae7aadf0e1856834",
       "version_major": 2,
       "version_minor": 0
      },
      "text/plain": [
       "HBox(children=(FloatProgress(value=0.0, max=830.0), HTML(value='')))"
      ]
     },
     "metadata": {},
     "output_type": "display_data"
    },
    {
     "data": {
      "application/vnd.jupyter.widget-view+json": {
       "model_id": "fceaa99d356d4052b211030398a438db",
       "version_major": 2,
       "version_minor": 0
      },
      "text/plain": [
       "HBox(children=(FloatProgress(value=0.0, max=830.0), HTML(value='')))"
      ]
     },
     "metadata": {},
     "output_type": "display_data"
    },
    {
     "name": "stdout",
     "output_type": "stream",
     "text": [
      "\n",
      "\n",
      "\n",
      "\n",
      "\n",
      "\n",
      "\n",
      "\n",
      "\n",
      "\n",
      "Done\n"
     ]
    }
   ],
   "source": [
    "threads = []\n",
    "num = len(seg_list)\n",
    "\n",
    "for i in range(0, num-1):\n",
    "\n",
    "    threads.append(threading.Thread(target = getUserReviews, \n",
    "                                    args = (url_list, seg_list[i], seg_list[i+1])))\n",
    "    threads[i].start()\n",
    "\n",
    "# 等待所有子執行緒結束\n",
    "for index in range(0, num-1):\n",
    "    threads[index].join()\n",
    "\n",
    "logging.info(\"Done\")\n",
    "print(\"Done\")"
   ]
  },
  {
   "cell_type": "code",
   "execution_count": 111,
   "metadata": {},
   "outputs": [
    {
     "name": "stdout",
     "output_type": "stream",
     "text": [
      "711708\n"
     ]
    },
    {
     "data": {
      "text/html": [
       "<div>\n",
       "<style scoped>\n",
       "    .dataframe tbody tr th:only-of-type {\n",
       "        vertical-align: middle;\n",
       "    }\n",
       "\n",
       "    .dataframe tbody tr th {\n",
       "        vertical-align: top;\n",
       "    }\n",
       "\n",
       "    .dataframe thead th {\n",
       "        text-align: right;\n",
       "    }\n",
       "</style>\n",
       "<table border=\"1\" class=\"dataframe\">\n",
       "  <thead>\n",
       "    <tr style=\"text-align: right;\">\n",
       "      <th></th>\n",
       "      <th>product</th>\n",
       "      <th>user</th>\n",
       "      <th>user_rating</th>\n",
       "      <th>user_comment</th>\n",
       "    </tr>\n",
       "  </thead>\n",
       "  <tbody>\n",
       "    <tr>\n",
       "      <th>629194</th>\n",
       "      <td>Edradour 10 Year</td>\n",
       "      <td>Samueljlutz</td>\n",
       "      <td>3.00</td>\n",
       "      <td>None</td>\n",
       "    </tr>\n",
       "    <tr>\n",
       "      <th>205593</th>\n",
       "      <td>Kentucky Owl 11 Year Kentucky Straight Rye (Ba...</td>\n",
       "      <td>beaversm</td>\n",
       "      <td>5.00</td>\n",
       "      <td>None</td>\n",
       "    </tr>\n",
       "    <tr>\n",
       "      <th>467760</th>\n",
       "      <td>The Ileach Peaty</td>\n",
       "      <td>lekiboy</td>\n",
       "      <td>4.00</td>\n",
       "      <td>I like how this one starts and delivers on the...</td>\n",
       "    </tr>\n",
       "    <tr>\n",
       "      <th>422404</th>\n",
       "      <td>Eagle Rare 10 Year Bourbon</td>\n",
       "      <td>Giza</td>\n",
       "      <td>4.50</td>\n",
       "      <td>None</td>\n",
       "    </tr>\n",
       "    <tr>\n",
       "      <th>496275</th>\n",
       "      <td>Nine Banded Small Batch Whiskey</td>\n",
       "      <td>BradFreeney</td>\n",
       "      <td>3.25</td>\n",
       "      <td>None</td>\n",
       "    </tr>\n",
       "    <tr>\n",
       "      <th>431732</th>\n",
       "      <td>Jack Daniel's Single Barrel Barrel Proof</td>\n",
       "      <td>gldngrhm</td>\n",
       "      <td>4.00</td>\n",
       "      <td>None</td>\n",
       "    </tr>\n",
       "  </tbody>\n",
       "</table>\n",
       "</div>"
      ],
      "text/plain": [
       "                                                  product         user  \\\n",
       "629194                                   Edradour 10 Year  Samueljlutz   \n",
       "205593  Kentucky Owl 11 Year Kentucky Straight Rye (Ba...     beaversm   \n",
       "467760                                   The Ileach Peaty      lekiboy   \n",
       "422404                         Eagle Rare 10 Year Bourbon         Giza   \n",
       "496275                    Nine Banded Small Batch Whiskey  BradFreeney   \n",
       "431732           Jack Daniel's Single Barrel Barrel Proof     gldngrhm   \n",
       "\n",
       "        user_rating                                       user_comment  \n",
       "629194         3.00                                               None  \n",
       "205593         5.00                                               None  \n",
       "467760         4.00  I like how this one starts and delivers on the...  \n",
       "422404         4.50                                               None  \n",
       "496275         3.25                                               None  \n",
       "431732         4.00                                               None  "
      ]
     },
     "execution_count": 111,
     "metadata": {},
     "output_type": "execute_result"
    }
   ],
   "source": [
    "df = pd.DataFrame(all_reviews)\n",
    "\n",
    "print(len(df))\n",
    "df.sample(6)"
   ]
  },
  {
   "cell_type": "markdown",
   "metadata": {},
   "source": [
    "## Export the Data"
   ]
  },
  {
   "cell_type": "code",
   "execution_count": 112,
   "metadata": {},
   "outputs": [],
   "source": [
    "#Setting Timestamp\n",
    "date = \"\".join(time.strftime(\"%Y-%m-%d %H:%M:%S\", time.localtime()).split(' ')[0].split('-'))"
   ]
  },
  {
   "cell_type": "code",
   "execution_count": 113,
   "metadata": {},
   "outputs": [],
   "source": [
    "#Output as CSV\n",
    "df.to_csv(f'distiller_user_reviews_{date}.csv')"
   ]
  },
  {
   "cell_type": "code",
   "execution_count": 114,
   "metadata": {},
   "outputs": [],
   "source": [
    "#Convert to JSON\n",
    "json_data = json.dumps(all_reviews, sort_keys=True, ensure_ascii=False, indent=4)"
   ]
  },
  {
   "cell_type": "code",
   "execution_count": 116,
   "metadata": {},
   "outputs": [],
   "source": [
    "#Output as JSON\n",
    "with open(f'distiller_user_reviews_{date}.json','w') as file:\n",
    "    file.write(json_data)"
   ]
  }
 ],
 "metadata": {
  "kernelspec": {
   "display_name": "Python 3",
   "language": "python",
   "name": "python3"
  },
  "language_info": {
   "codemirror_mode": {
    "name": "ipython",
    "version": 3
   },
   "file_extension": ".py",
   "mimetype": "text/x-python",
   "name": "python",
   "nbconvert_exporter": "python",
   "pygments_lexer": "ipython3",
   "version": "3.7.3"
  }
 },
 "nbformat": 4,
 "nbformat_minor": 4
}
