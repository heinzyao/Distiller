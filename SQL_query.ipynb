{
 "cells": [
  {
   "cell_type": "markdown",
   "metadata": {},
   "source": [
    "!conda install Mysqlclient"
   ]
  },
  {
   "cell_type": "code",
   "execution_count": 12,
   "metadata": {},
   "outputs": [],
   "source": [
    "import MySQLdb\n",
    "\n",
    "db = MySQLdb.connect( \n",
    "        host=\"127.0.0.1\",\n",
    "        user=\"root\",\n",
    "        passwd=\"c8qfmca1126\",\n",
    "        db=\"Distiller\"\n",
    "    )   "
   ]
  },
  {
   "cell_type": "code",
   "execution_count": 13,
   "metadata": {},
   "outputs": [],
   "source": [
    "def getData(query):\n",
    "    \n",
    "    cursor = db.cursor()\n",
    "    \n",
    "    try:\n",
    "        cursor.execute(query)\n",
    "        \n",
    "    except:\n",
    "        pass\n",
    "\n",
    "    data = cursor.fetchall()\n",
    "    cursor.close() \n",
    "    \n",
    "    return data"
   ]
  },
  {
   "cell_type": "code",
   "execution_count": 36,
   "metadata": {},
   "outputs": [
    {
     "name": "stdout",
     "output_type": "stream",
     "text": [
      "3451 1267\n"
     ]
    }
   ],
   "source": [
    "sql1 = \"SELECT `name`, `type`, `tasting-notes`, `expert-rating`, `flavor-profile` \\\n",
    "\tFROM official_all WHERE `flavor-profile` IS NOT NULL \\\n",
    "\tORDER BY `expert-rating` DESC;\"\n",
    "\n",
    "sql2 = \"SELECT `name`,`type`, `tasting-notes`\\\n",
    "\tFROM official_all WHERE `flavor-profile` IS NULL AND `expert-rating` > 0 \\\n",
    "\tORDER BY `expert-rating` DESC;\"\n",
    "\n",
    "train_data = getData(sql1)\n",
    "test_data = getData(sql2)\n",
    "\n",
    "print(len(train_data),len(test_data))"
   ]
  },
  {
   "cell_type": "code",
   "execution_count": 39,
   "metadata": {},
   "outputs": [],
   "source": [
    "import csv\n",
    "\n",
    "with open('raw_data.csv', 'w', newline='') as f:\n",
    "    writer = csv.writer(f, delimiter=',')\n",
    "    \n",
    "    writer.writerow(['name', 'type', 'tasting_notes', 'expert-rating', 'flavor-profile'])\n",
    "    writer.writerows(train_data)"
   ]
  },
  {
   "cell_type": "code",
   "execution_count": 40,
   "metadata": {},
   "outputs": [],
   "source": [
    "import csv\n",
    "\n",
    "with open('test_data.csv', 'w', newline='') as f:\n",
    "    writer = csv.writer(f, delimiter=',')\n",
    "    \n",
    "    writer.writerow(['name', 'type', 'tasting_note'])\n",
    "    writer.writerows(test_data)"
   ]
  },
  {
   "cell_type": "markdown",
   "metadata": {},
   "source": [
    "!jupyter nbconvert --to script GetByCategory.ipynb "
   ]
  }
 ],
 "metadata": {
  "kernelspec": {
   "display_name": "Python 3",
   "language": "python",
   "name": "python3"
  },
  "language_info": {
   "codemirror_mode": {
    "name": "ipython",
    "version": 3
   },
   "file_extension": ".py",
   "mimetype": "text/x-python",
   "name": "python",
   "nbconvert_exporter": "python",
   "pygments_lexer": "ipython3",
   "version": "3.7.6"
  }
 },
 "nbformat": 4,
 "nbformat_minor": 4
}
