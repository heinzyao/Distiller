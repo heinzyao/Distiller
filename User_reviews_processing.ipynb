{
 "cells": [
  {
   "cell_type": "code",
   "execution_count": 1,
   "metadata": {},
   "outputs": [],
   "source": [
    "import pandas as pd\n",
    "from pandas_profiling import ProfileReport"
   ]
  },
  {
   "cell_type": "code",
   "execution_count": 2,
   "metadata": {},
   "outputs": [
    {
     "name": "stdout",
     "output_type": "stream",
     "text": [
      "Iteration is stopped.\n"
     ]
    }
   ],
   "source": [
    "reader = pd.read_csv('distiller_user_reviews_20200414.csv', iterator=True, index_col=0)\n",
    "\n",
    "loop = True\n",
    "chunkSize = 100000\n",
    "chunks = []\n",
    "\n",
    "while loop:\n",
    "    try:\n",
    "        chunk = reader.get_chunk(chunkSize)\n",
    "        chunks.append(chunk)\n",
    "        \n",
    "    except StopIteration:\n",
    "        loop = False\n",
    "        print(\"Iteration is stopped.\")\n",
    "\n",
    "df = pd.concat(chunks, ignore_index=True)"
   ]
  },
  {
   "cell_type": "code",
   "execution_count": 3,
   "metadata": {},
   "outputs": [],
   "source": [
    "df = df[(df['user_comment'].isnull() == False) & (df['user_rating'].isnull() == False)]\n",
    "df['user_rating'] = (df['user_rating']*20).astype('int')"
   ]
  },
  {
   "cell_type": "code",
   "execution_count": 4,
   "metadata": {},
   "outputs": [
    {
     "name": "stdout",
     "output_type": "stream",
     "text": [
      "151387\n"
     ]
    },
    {
     "data": {
      "text/html": [
       "<div>\n",
       "<style scoped>\n",
       "    .dataframe tbody tr th:only-of-type {\n",
       "        vertical-align: middle;\n",
       "    }\n",
       "\n",
       "    .dataframe tbody tr th {\n",
       "        vertical-align: top;\n",
       "    }\n",
       "\n",
       "    .dataframe thead th {\n",
       "        text-align: right;\n",
       "    }\n",
       "</style>\n",
       "<table border=\"1\" class=\"dataframe\">\n",
       "  <thead>\n",
       "    <tr style=\"text-align: right;\">\n",
       "      <th></th>\n",
       "      <th>product</th>\n",
       "      <th>user</th>\n",
       "      <th>user_rating</th>\n",
       "      <th>user_comment</th>\n",
       "    </tr>\n",
       "  </thead>\n",
       "  <tbody>\n",
       "    <tr>\n",
       "      <th>619505</th>\n",
       "      <td>Glenmorangie The Original 10 Year</td>\n",
       "      <td>Urbicande</td>\n",
       "      <td>80</td>\n",
       "      <td>Surprisingly tasty</td>\n",
       "    </tr>\n",
       "    <tr>\n",
       "      <th>322115</th>\n",
       "      <td>Johnnie Walker Blenders' Batch Red Rye Finish</td>\n",
       "      <td>WeekofWonders</td>\n",
       "      <td>85</td>\n",
       "      <td>Fácil y sencillo, con un trago amplio.Ahí esta...</td>\n",
       "    </tr>\n",
       "    <tr>\n",
       "      <th>438297</th>\n",
       "      <td>Ron Diplomático Reserva Exclusiva Rum</td>\n",
       "      <td>smsaville</td>\n",
       "      <td>100</td>\n",
       "      <td>Mon rhum préféré. Magistral. Incroyablement do...</td>\n",
       "    </tr>\n",
       "    <tr>\n",
       "      <th>558102</th>\n",
       "      <td>Woodford Reserve Bourbon</td>\n",
       "      <td>zachn</td>\n",
       "      <td>80</td>\n",
       "      <td>Great in an old fashioned, great on the rocks....</td>\n",
       "    </tr>\n",
       "    <tr>\n",
       "      <th>66111</th>\n",
       "      <td>Willett Family Estate Bottled Rye 4 Year</td>\n",
       "      <td>bctorbet83</td>\n",
       "      <td>80</td>\n",
       "      <td>Rye beginning that mellows quickly</td>\n",
       "    </tr>\n",
       "    <tr>\n",
       "      <th>194614</th>\n",
       "      <td>Springbank 12 Year Cask Strength</td>\n",
       "      <td>Mr_T</td>\n",
       "      <td>100</td>\n",
       "      <td>Big and rich. Earthy malt, meaty, briny, and s...</td>\n",
       "    </tr>\n",
       "    <tr>\n",
       "      <th>397667</th>\n",
       "      <td>Port Charlotte 10 Year</td>\n",
       "      <td>MartinKirsch</td>\n",
       "      <td>80</td>\n",
       "      <td>Nose: Cape Cod, Brine oysters, moss, leather. ...</td>\n",
       "    </tr>\n",
       "    <tr>\n",
       "      <th>289352</th>\n",
       "      <td>Jim Beam Black Label Double Aged 8 Year</td>\n",
       "      <td>Steelers330</td>\n",
       "      <td>40</td>\n",
       "      <td>My every day bourbon... always there and depen...</td>\n",
       "    </tr>\n",
       "    <tr>\n",
       "      <th>518602</th>\n",
       "      <td>Laphroaig PX Cask</td>\n",
       "      <td>Herbert-Chang</td>\n",
       "      <td>100</td>\n",
       "      <td>Smoky umami balanced with a dark red fruit jui...</td>\n",
       "    </tr>\n",
       "    <tr>\n",
       "      <th>226481</th>\n",
       "      <td>Eagle Rare 17 Year Bourbon (Fall 2014)</td>\n",
       "      <td>srv1054</td>\n",
       "      <td>80</td>\n",
       "      <td>Definitely a good bourbon, not something I kee...</td>\n",
       "    </tr>\n",
       "  </tbody>\n",
       "</table>\n",
       "</div>"
      ],
      "text/plain": [
       "                                              product           user  \\\n",
       "619505              Glenmorangie The Original 10 Year      Urbicande   \n",
       "322115  Johnnie Walker Blenders' Batch Red Rye Finish  WeekofWonders   \n",
       "438297          Ron Diplomático Reserva Exclusiva Rum      smsaville   \n",
       "558102                       Woodford Reserve Bourbon          zachn   \n",
       "66111        Willett Family Estate Bottled Rye 4 Year     bctorbet83   \n",
       "194614               Springbank 12 Year Cask Strength           Mr_T   \n",
       "397667                         Port Charlotte 10 Year   MartinKirsch   \n",
       "289352        Jim Beam Black Label Double Aged 8 Year    Steelers330   \n",
       "518602                              Laphroaig PX Cask  Herbert-Chang   \n",
       "226481         Eagle Rare 17 Year Bourbon (Fall 2014)        srv1054   \n",
       "\n",
       "        user_rating                                       user_comment  \n",
       "619505           80                                 Surprisingly tasty  \n",
       "322115           85  Fácil y sencillo, con un trago amplio.Ahí esta...  \n",
       "438297          100  Mon rhum préféré. Magistral. Incroyablement do...  \n",
       "558102           80  Great in an old fashioned, great on the rocks....  \n",
       "66111            80                 Rye beginning that mellows quickly  \n",
       "194614          100  Big and rich. Earthy malt, meaty, briny, and s...  \n",
       "397667           80  Nose: Cape Cod, Brine oysters, moss, leather. ...  \n",
       "289352           40  My every day bourbon... always there and depen...  \n",
       "518602          100  Smoky umami balanced with a dark red fruit jui...  \n",
       "226481           80  Definitely a good bourbon, not something I kee...  "
      ]
     },
     "execution_count": 4,
     "metadata": {},
     "output_type": "execute_result"
    }
   ],
   "source": [
    "print(len(df))\n",
    "df.sample(10)"
   ]
  },
  {
   "cell_type": "code",
   "execution_count": null,
   "metadata": {},
   "outputs": [],
   "source": [
    "reader = pd.read_csv('distiller_user_reviews_20200414.csv', iterator=True, index_col=0)"
   ]
  }
 ],
 "metadata": {
  "kernelspec": {
   "display_name": "Python 3",
   "language": "python",
   "name": "python3"
  },
  "language_info": {
   "codemirror_mode": {
    "name": "ipython",
    "version": 3
   },
   "file_extension": ".py",
   "mimetype": "text/x-python",
   "name": "python",
   "nbconvert_exporter": "python",
   "pygments_lexer": "ipython3",
   "version": "3.7.7"
  }
 },
 "nbformat": 4,
 "nbformat_minor": 4
}
